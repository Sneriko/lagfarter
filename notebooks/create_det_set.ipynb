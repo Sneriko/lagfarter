{
 "cells": [
  {
   "cell_type": "code",
   "execution_count": 2,
   "metadata": {},
   "outputs": [],
   "source": [
    "from glob import glob\n",
    "import os\n",
    "import cv2\n",
    "from pathlib import Path\n",
    "import multiprocessing\n",
    "from multiprocessing import Pool\n",
    "import random\n",
    "import shutil"
   ]
  },
  {
   "cell_type": "code",
   "execution_count": null,
   "metadata": {},
   "outputs": [],
   "source": [
    "multiprocessing.cpu_count()"
   ]
  },
  {
   "cell_type": "code",
   "execution_count": null,
   "metadata": {},
   "outputs": [],
   "source": [
    "def crop_batch(batch):\n",
    "    out_folder = '/home/erik/Riksarkivet/Projects/lagfarter/data/cropped_imgs_ind_batches'\n",
    "    batch_name = Path(batch).stem\n",
    "    os.makedirs(os.path.join(outpath, batch_name), exist_ok=True)\n",
    "    imgs = glob(os.path.join(batch, '**'))\n",
    "    imgs.sort()\n",
    "\n",
    "    for img_p in imgs:\n",
    "        img_name = Path(img_p).name\n",
    "        img = cv2.imread(img_p)\n",
    "        try: \n",
    "            img = img[0:600, :]\n",
    "            img_out_path = os.path.join(outpath, batch_name, img_name)\n",
    "            cv2.imwrite(img_out_path, img)\n",
    "        except:\n",
    "            pass\n",
    "\n",
    "    print(batch)\n"
   ]
  },
  {
   "cell_type": "code",
   "execution_count": null,
   "metadata": {},
   "outputs": [],
   "source": [
    "outpath = '/home/erik/Riksarkivet/Projects/lagfarter/data/cropped_imgs_ind_batches'\n",
    "\n",
    "batches = glob(os.path.join('/home/erik/Riksarkivet/Projects/lagfarter/data/indexed_batches_zip2_tiff', '**'))\n",
    "batches.sort()\n",
    "\n",
    "cpu_count = multiprocessing.cpu_count()\n",
    "p = Pool(cpu_count)\n",
    "p.map(crop_batch, batches)"
   ]
  },
  {
   "cell_type": "code",
   "execution_count": 3,
   "metadata": {},
   "outputs": [
    {
     "name": "stdout",
     "output_type": "stream",
     "text": [
      "small batch\n",
      "small batch\n",
      "small batch\n",
      "small batch\n",
      "small batch\n",
      "small batch\n",
      "small batch\n"
     ]
    }
   ],
   "source": [
    "path_to_crops = '/media/erik/T7/Data/Lagfarter/cropped_imgs_ind_batches'\n",
    "\n",
    "out_det = '/media/erik/T7/Data/Lagfarter/det_set_import_2'\n",
    "\n",
    "batches = glob(os.path.join(path_to_crops, '**'))\n",
    "batches.sort()\n",
    "\n",
    "for i, b in enumerate(batches):\n",
    "    imgs = glob(os.path.join(b, '**'))\n",
    "    imgs.sort()\n",
    "    out_folder = str(int(i / 30))\n",
    "\n",
    "    if i % 30 == 0:\n",
    "        os.makedirs(os.path.join(out_det, out_folder), exist_ok=True)\n",
    "    \n",
    "    try:\n",
    "\n",
    "        indexes = random.sample(range(5, len(imgs) - 3), 5)\n",
    "\n",
    "        for ind in indexes:\n",
    "            img = cv2.imread(imgs[ind])\n",
    "            file_name = Path(imgs[ind]).stem + '.jpg'\n",
    "            dst_path = os.path.join(out_det, out_folder, file_name)\n",
    "            cv2.imwrite(dst_path,img,[int(cv2.IMWRITE_JPEG_QUALITY), 200])\n",
    "\n",
    "    except:\n",
    "        print('small batch')\n",
    "        \n",
    "        \n",
    "    "
   ]
  },
  {
   "cell_type": "code",
   "execution_count": null,
   "metadata": {},
   "outputs": [],
   "source": [
    "import cv2, os\n",
    "base_path = \"data/images/\"\n",
    "new_path = \"data/ims/\"\n",
    "for infile in os.listdir(base_path):\n",
    "    print (\"file : \" + infile)\n",
    "    read = cv2.imread(base_path + infile)\n",
    "    outfile = infile.split('.')[0] + '.jpg'\n",
    "    cv2.imwrite(new_path+outfile,read,[int(cv2.IMWRITE_JPEG_QUALITY), 200])"
   ]
  }
 ],
 "metadata": {
  "kernelspec": {
   "display_name": "Python 3.7.13 64-bit ('lagfarter': conda)",
   "name": "python3713jvsc74a57bd01c548d5a8b3d4454c9603ca2a0dc189d675989076af75dc267ab6735625d4f70"
  },
  "language_info": {
   "codemirror_mode": {
    "name": "ipython",
    "version": 3
   },
   "file_extension": ".py",
   "mimetype": "text/x-python",
   "name": "python",
   "nbconvert_exporter": "python",
   "pygments_lexer": "ipython3",
   "version": "3.7.13"
  },
  "orig_nbformat": 2
 },
 "nbformat": 4,
 "nbformat_minor": 2
}