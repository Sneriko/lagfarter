{
 "cells": [
  {
   "cell_type": "code",
   "execution_count": null,
   "metadata": {},
   "outputs": [],
   "source": [
    "import cv2\n",
    "\n",
    "img_path = '/home/erik/Riksarkivet/Projects/lagfarter/data/indexed_batches_zip2_tiff/H0000796/SE_HLA1040168_CI_4_000028.tiff'\n",
    "\n",
    "img = cv2.imread(img_path)\n",
    "\n",
    "img = img[0:500, :]\n",
    "\n",
    "window_name = 'lagfart'\n",
    "\n",
    "cv2.imwrite('/home/erik/Riksarkivet/Projects/lagfarter/output/b.jpg', img)"
   ]
  },
  {
   "cell_type": "code",
   "execution_count": null,
   "metadata": {},
   "outputs": [],
   "source": []
  }
 ],
 "metadata": {
  "kernelspec": {
   "display_name": "Python 3.7.13 64-bit ('lagfarter': conda)",
   "name": "python3713jvsc74a57bd01c548d5a8b3d4454c9603ca2a0dc189d675989076af75dc267ab6735625d4f70"
  },
  "language_info": {
   "codemirror_mode": {
    "name": "ipython",
    "version": 3
   },
   "file_extension": ".py",
   "mimetype": "text/x-python",
   "name": "python",
   "nbconvert_exporter": "python",
   "pygments_lexer": "ipython3",
   "version": "3.7.13"
  },
  "orig_nbformat": 2
 },
 "nbformat": 4,
 "nbformat_minor": 2
}