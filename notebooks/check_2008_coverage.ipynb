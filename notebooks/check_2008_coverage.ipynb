{
 "cells": [
  {
   "cell_type": "code",
   "execution_count": 1,
   "metadata": {},
   "outputs": [],
   "source": [
    "import pandas as pd"
   ]
  },
  {
   "cell_type": "code",
   "execution_count": 2,
   "metadata": {},
   "outputs": [],
   "source": [
    "#df_lm = pd.read_csv('/home/erik/Riksarkivet/Projects/lagfarter/data/db_files/LM_2008.txt', sep=';', encoding='latin-1', dtype=str, index_col=[4,5])\n",
    "df_lagf = pd.read_csv('/home/erik/Riksarkivet/Projects/lagfarter/data/db_files/Uttag_Lagfartsbok_2022-09-14', sep='\\t', encoding='utf8', dtype=str)"
   ]
  },
  {
   "cell_type": "code",
   "execution_count": 15,
   "metadata": {},
   "outputs": [],
   "source": [
    "lst = df_lagf[['BATCHNAMN', 'ARKISNAMN']].values.tolist()\n",
    "batches = list(set([x[0] for x in lst]))\n",
    "batches = [x for x in batches if isinstance(x, str)]\n",
    "batches.sort()\n",
    "with open('/home/erik/Riksarkivet/Projects/lagfarter/output/batches_transcribed.txt', 'w') as f:\n",
    "    for batch in batches:\n",
    "        f.write(str(batch) + '\\n')"
   ]
  },
  {
   "cell_type": "code",
   "execution_count": 23,
   "metadata": {},
   "outputs": [],
   "source": [
    "series_of_batches = list()\n",
    "start = batches[0]\n",
    "end = ''\n",
    "for i, batch in enumerate(batches[1:]):\n",
    "    if int(batch[1:]) == int(batches[i][1:]) + 1:\n",
    "        continue\n",
    "    else:\n",
    "        series_of_batches.append((start, batches[i]))\n",
    "        start = batch\n",
    "\n",
    "series_of_batches.append((batches[len(batches) - 1], batches[len(batches) - 1]))\n"
   ]
  },
  {
   "cell_type": "code",
   "execution_count": 25,
   "metadata": {},
   "outputs": [],
   "source": [
    "with open('/home/erik/Riksarkivet/Projects/lagfarter/output/series_of_batches_transcribed.txt', 'w') as f:\n",
    "    for s in series_of_batches:\n",
    "        f.write(s[0] + '-' + s[1] + '\\n')"
   ]
  },
  {
   "cell_type": "code",
   "execution_count": 3,
   "metadata": {},
   "outputs": [],
   "source": [
    "def search(x,y):\n",
    "    try:\n",
    "        if x == 0 and y == 0:\n",
    "            pass\n",
    "        #elif\n",
    "\n",
    "        res = df_lm.loc[(x.upper(), y)]\n",
    "        print('a')\n",
    "        return 1\n",
    "        \n",
    "    except:\n",
    "        print('b')\n",
    "        return 0\n",
    "    "
   ]
  },
  {
   "cell_type": "code",
   "execution_count": 5,
   "metadata": {},
   "outputs": [],
   "source": [
    "#res = df_lm.loc[('TÄFTEBÖLE', '1')]\n",
    "\n",
    "succeded = 0\n",
    "failed = 0\n",
    "\n",
    "df_lagf = df_lagf.fillna(0)\n",
    "\n",
    "\n",
    "[search(x,y) for x, y in zip(df_lagf['FAST'], df_lagf['FASTNR1'])]\n",
    "\n",
    "\n",
    "    "
   ]
  }
 ],
 "metadata": {
  "kernelspec": {
   "display_name": "Python 3.7.13 64-bit ('lagfarter': conda)",
   "name": "python3713jvsc74a57bd01c548d5a8b3d4454c9603ca2a0dc189d675989076af75dc267ab6735625d4f70"
  },
  "language_info": {
   "codemirror_mode": {
    "name": "ipython",
    "version": 3
   },
   "file_extension": ".py",
   "mimetype": "text/x-python",
   "name": "python",
   "nbconvert_exporter": "python",
   "pygments_lexer": "ipython3",
   "version": "3.7.13"
  },
  "orig_nbformat": 2
 },
 "nbformat": 4,
 "nbformat_minor": 2
}